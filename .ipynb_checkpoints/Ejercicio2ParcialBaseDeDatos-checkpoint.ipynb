{
 "cells": [
  {
   "cell_type": "markdown",
   "metadata": {},
   "source": [
    "# Ejercicio 2 "
   ]
  },
  {
   "cell_type": "markdown",
   "metadata": {},
   "source": [
    "## Generacion de Base de datos"
   ]
  },
  {
   "cell_type": "code",
   "execution_count": 1,
   "metadata": {},
   "outputs": [],
   "source": [
    "# Importacion de modulo\n",
    "%load_ext sql"
   ]
  },
  {
   "cell_type": "code",
   "execution_count": 2,
   "metadata": {},
   "outputs": [
    {
     "data": {
      "text/plain": [
       "u'Connected: @parcial1'"
      ]
     },
     "execution_count": 2,
     "metadata": {},
     "output_type": "execute_result"
    }
   ],
   "source": [
    "# Base de datos\n",
    "%sql sqlite:///parcial1"
   ]
  },
  {
   "cell_type": "code",
   "execution_count": 3,
   "metadata": {},
   "outputs": [
    {
     "name": "stdout",
     "output_type": "stream",
     "text": [
      " * sqlite:///parcial1\n",
      "Done.\n"
     ]
    },
    {
     "data": {
      "text/plain": [
       "[]"
      ]
     },
     "execution_count": 3,
     "metadata": {},
     "output_type": "execute_result"
    }
   ],
   "source": [
    "# Muestra organizacion \n",
    "%sql pragma foreign_keys = on;"
   ]
  },
  {
   "cell_type": "code",
   "execution_count": 4,
   "metadata": {},
   "outputs": [
    {
     "name": "stdout",
     "output_type": "stream",
     "text": [
      " * sqlite:///parcial1\n",
      "Done.\n"
     ]
    },
    {
     "data": {
      "text/plain": [
       "[]"
      ]
     },
     "execution_count": 4,
     "metadata": {},
     "output_type": "execute_result"
    }
   ],
   "source": [
    "%%sql CREATE TABLE Estudiantes (\n",
    "    idEstudiante VARCHAR(255) PRIMARY KEY, \n",
    "    nombre VARCHAR(255), \n",
    "    apellido VARCHAR(255), \n",
    "    carrera VARCHAR(255)\n",
    "    );"
   ]
  },
  {
   "cell_type": "code",
   "execution_count": 5,
   "metadata": {},
   "outputs": [
    {
     "name": "stdout",
     "output_type": "stream",
     "text": [
      " * sqlite:///parcial1\n",
      "Done.\n"
     ]
    },
    {
     "data": {
      "text/plain": [
       "[]"
      ]
     },
     "execution_count": 5,
     "metadata": {},
     "output_type": "execute_result"
    }
   ],
   "source": [
    "%%sql CREATE TABLE Jerarquias (\n",
    "    idFacultad VARCHAR(255) NOT NULL,\n",
    "    idDepartamento VARCHAR(255) NOT NULL,\n",
    "    nombreFacultad VARCHAR(255),\n",
    "    nombreDepartamento VARCHAR(255),\n",
    "    CONSTRAINT PK_Jerarquias PRIMARY KEY (idFacultad,idDepartamento)\n",
    "    );\n"
   ]
  },
  {
   "cell_type": "code",
   "execution_count": 6,
   "metadata": {},
   "outputs": [
    {
     "name": "stdout",
     "output_type": "stream",
     "text": [
      " * sqlite:///parcial1\n",
      "Done.\n"
     ]
    },
    {
     "data": {
      "text/plain": [
       "[]"
      ]
     },
     "execution_count": 6,
     "metadata": {},
     "output_type": "execute_result"
    }
   ],
   "source": [
    "%%sql CREATE TABLE Cursos (\n",
    "    idCurso VARCHAR(255) PRIMARY KEY, \n",
    "    nombre VARCHAR(255), \n",
    "    idDepartamento VARCHAR(255), \n",
    "    FOREIGN KEY (idDepartamento) REFERENCES Departamentos(idDepartamento)\n",
    "    );"
   ]
  },
  {
   "cell_type": "code",
   "execution_count": 7,
   "metadata": {},
   "outputs": [
    {
     "name": "stdout",
     "output_type": "stream",
     "text": [
      " * sqlite:///parcial1\n",
      "Done.\n"
     ]
    },
    {
     "data": {
      "text/plain": [
       "[]"
      ]
     },
     "execution_count": 7,
     "metadata": {},
     "output_type": "execute_result"
    }
   ],
   "source": [
    "%%sql CREATE TABLE Profesores (\n",
    "    idProfesor VARCHAR(255) PRIMARY KEY, \n",
    "    nombre VARCHAR(255), \n",
    "    apellido VARCHAR(255)\n",
    "    );"
   ]
  },
  {
   "cell_type": "code",
   "execution_count": 8,
   "metadata": {},
   "outputs": [
    {
     "name": "stdout",
     "output_type": "stream",
     "text": [
      " * sqlite:///parcial1\n",
      "Done.\n"
     ]
    },
    {
     "data": {
      "text/plain": [
       "[]"
      ]
     },
     "execution_count": 8,
     "metadata": {},
     "output_type": "execute_result"
    }
   ],
   "source": [
    "%%sql CREATE TABLE Notas (\n",
    "    idEstudiante VARCHAR(255) NOT NULL,\n",
    "    idCurso VARCHAR(255) NOT NULL,\n",
    "    fecha DATE,\n",
    "    nota INT, \n",
    "    FOREIGN KEY (idEstudiante) REFERENCES Estudiantes(idEstudiante),\n",
    "    FOREIGN KEY (idCurso) REFERENCES Cursos(idCurso)\n",
    "    );"
   ]
  },
  {
   "cell_type": "code",
   "execution_count": 9,
   "metadata": {},
   "outputs": [
    {
     "name": "stdout",
     "output_type": "stream",
     "text": [
      " * sqlite:///parcial1\n",
      "Done.\n"
     ]
    },
    {
     "data": {
      "text/plain": [
       "[]"
      ]
     },
     "execution_count": 9,
     "metadata": {},
     "output_type": "execute_result"
    }
   ],
   "source": [
    "%%sql CREATE TABLE Directores (\n",
    "    idProfesor VARCHAR(255) NOT NULL,\n",
    "    idDepartamento VARCHAR(255) NOT NULL PRIMARY KEY,\n",
    "    FOREIGN KEY (idDepartamento) REFERENCES Jerarquias(idDepartamento),\n",
    "    FOREIGN KEY (idProfesor) REFERENCES Profesores(idProfesor)\n",
    "    );"
   ]
  },
  {
   "cell_type": "code",
   "execution_count": 10,
   "metadata": {},
   "outputs": [
    {
     "name": "stdout",
     "output_type": "stream",
     "text": [
      " * sqlite:///parcial1\n",
      "Done.\n"
     ]
    },
    {
     "data": {
      "text/plain": [
       "[]"
      ]
     },
     "execution_count": 10,
     "metadata": {},
     "output_type": "execute_result"
    }
   ],
   "source": [
    "%%sql CREATE TABLE Asignacion (\n",
    "    seccion VARCHAR(255) NOT NULL,\n",
    "    idEstudiante VARCHAR(255) NOT NULL,\n",
    "    idCurso VARCHAR(255) NOT NULL,\n",
    "    idProfesor VARCHAR(255) NOT NULL,\n",
    "    fecha DATE,\n",
    "    FOREIGN KEY (idEstudiante) REFERENCES Estudiantes(idEstudiante),\n",
    "    FOREIGN KEY (idCurso) REFERENCES Cursos(idCurso),\n",
    "    FOREIGN KEY (idProfesor) REFERENCES Profesores(idProfesor)\n",
    "    );"
   ]
  },
  {
   "cell_type": "markdown",
   "metadata": {},
   "source": [
    "## Llenado con datos"
   ]
  },
  {
   "cell_type": "code",
   "execution_count": 11,
   "metadata": {},
   "outputs": [
    {
     "name": "stdout",
     "output_type": "stream",
     "text": [
      " * sqlite:///parcial1\n",
      "1 rows affected.\n",
      " * sqlite:///parcial1\n",
      "1 rows affected.\n",
      " * sqlite:///parcial1\n",
      "1 rows affected.\n",
      " * sqlite:///parcial1\n",
      "1 rows affected.\n"
     ]
    },
    {
     "data": {
      "text/plain": [
       "[]"
      ]
     },
     "execution_count": 11,
     "metadata": {},
     "output_type": "execute_result"
    }
   ],
   "source": [
    "# se meten datos en Estudiantes\n",
    "%sql INSERT INTO Estudiantes (idEstudiante, nombre, apellido, carrera) VALUES ('1', 'Activo', 'Activo Apellido 1', 'Carrera activa 1 '); \n",
    "%sql INSERT INTO Estudiantes (idEstudiante, nombre, apellido, carrera) VALUES ('2', 'Activo 2', 'Activo Apellido 2', 'Carrera activa 2 '); \n",
    "%sql INSERT INTO Estudiantes (idEstudiante, nombre, apellido, carrera) VALUES ('3', 'Activo 3', 'Activo Apellido 3', 'Carrera activa 2 '); \n",
    "%sql INSERT INTO Estudiantes (idEstudiante, nombre, apellido, carrera) VALUES ('4', 'No Activo 1 ', 'No Activo Apellido 1', 'Carrera inactiva 1 '); "
   ]
  },
  {
   "cell_type": "code",
   "execution_count": 12,
   "metadata": {},
   "outputs": [
    {
     "name": "stdout",
     "output_type": "stream",
     "text": [
      " * sqlite:///parcial1\n",
      "1 rows affected.\n",
      " * sqlite:///parcial1\n",
      "1 rows affected.\n",
      " * sqlite:///parcial1\n",
      "1 rows affected.\n",
      " * sqlite:///parcial1\n",
      "1 rows affected.\n"
     ]
    },
    {
     "data": {
      "text/plain": [
       "[]"
      ]
     },
     "execution_count": 12,
     "metadata": {},
     "output_type": "execute_result"
    }
   ],
   "source": [
    "# se meten datos en Jerarquias\n",
    "%sql INSERT INTO Jerarquias (idFacultad, idDepartamento, nombreFacultad, nombreDepartamento) VALUES ('J1', 'D1', 'NJ1', 'ND1'); \n",
    "%sql INSERT INTO Jerarquias (idFacultad, idDepartamento, nombreFacultad, nombreDepartamento) VALUES ('J1', 'D2', 'NJ1', 'ND2'); \n",
    "%sql INSERT INTO Jerarquias (idFacultad, idDepartamento, nombreFacultad, nombreDepartamento) VALUES ('J2', 'D1', 'NJ2', 'ND1'); \n",
    "%sql INSERT INTO Jerarquias (idFacultad, idDepartamento, nombreFacultad, nombreDepartamento) VALUES ('J2', 'D2', 'NJ2', 'ND2'); "
   ]
  },
  {
   "cell_type": "code",
   "execution_count": 13,
   "metadata": {},
   "outputs": [
    {
     "name": "stdout",
     "output_type": "stream",
     "text": [
      " * sqlite:///parcial1\n",
      "(pysqlite2.dbapi2.OperationalError) no such table: main.Departamentos [SQL: u\"INSERT INTO Cursos (idCurso, nombre, idDepartamento) VALUES ('1', 'CURSO1', 'D1');\"] (Background on this error at: http://sqlalche.me/e/e3q8)\n"
     ]
    }
   ],
   "source": [
    "# se meten datos en Cursos\n",
    "%sql INSERT INTO Cursos (idCurso, nombre, idDepartamento) VALUES ('1', 'CURSO1', 'D1');\n",
    "#%sql INSERT INTO Cursos (idCurso, nombre, idDepartamento) VALUES ('2', 'CURSO2', 'D2');\n",
    "#%sql INSERT INTO Cursos (idCurso, nombre, idDepartamento) VALUES ('3', 'CURSO3', 'D1');"
   ]
  },
  {
   "cell_type": "markdown",
   "metadata": {},
   "source": [
    "## Queries"
   ]
  },
  {
   "cell_type": "markdown",
   "metadata": {},
   "source": [
    "### La cantidad de estudiantes actualmente activos por carrera"
   ]
  },
  {
   "cell_type": "code",
   "execution_count": 25,
   "metadata": {},
   "outputs": [
    {
     "name": "stdout",
     "output_type": "stream",
     "text": [
      " * sqlite:///parcial1\n",
      "Done.\n"
     ]
    },
    {
     "data": {
      "text/html": [
       "<table>\n",
       "    <tr>\n",
       "        <th>carrera</th>\n",
       "        <th>Cantidad_Estudiantes</th>\n",
       "    </tr>\n",
       "</table>"
      ],
      "text/plain": [
       "[]"
      ]
     },
     "execution_count": 25,
     "metadata": {},
     "output_type": "execute_result"
    }
   ],
   "source": [
    "%%sql\n",
    "SELECT carrera, count(*) as Cantidad_Estudiantes\n",
    "FROM Estudiantes INNER JOIN Asignacion  ON Estudiantes.idEstudiante=Asignacion.idEstudiante\n",
    "WHERE fecha BETWEEN '2019-01-01' AND '2019-12-31'\n",
    "GROUP BY carrera"
   ]
  },
  {
   "cell_type": "markdown",
   "metadata": {},
   "source": [
    "### Promedio de notas del estudiante Juan Pérez por cada semestre estudiado en la universidad"
   ]
  },
  {
   "cell_type": "code",
   "execution_count": 27,
   "metadata": {},
   "outputs": [
    {
     "name": "stdout",
     "output_type": "stream",
     "text": [
      " * sqlite:///parcial1\n",
      "Done.\n"
     ]
    },
    {
     "data": {
      "text/html": [
       "<table>\n",
       "    <tr>\n",
       "        <th>fecha</th>\n",
       "        <th>PROMEDIO</th>\n",
       "    </tr>\n",
       "</table>"
      ],
      "text/plain": [
       "[]"
      ]
     },
     "execution_count": 27,
     "metadata": {},
     "output_type": "execute_result"
    }
   ],
   "source": [
    "%%sql\n",
    "SELECT Asignacion.fecha, AVG(Notas.nota) AS PROMEDIO\n",
    "FROM  Notas INNER JOIN (Estudiantes INNER JOIN Asignacion ON Estudiantes.idEstudiante=Asignacion.idEstudiante) as SUB ON Notas.idEstudiante=SUB.idEstudiante\n",
    "WHERE Estudiantes.nombre = 'Juan Pérez'\n",
    "GROUP BY Asignacion.fecha"
   ]
  },
  {
   "cell_type": "markdown",
   "metadata": {},
   "source": [
    "### Promedio de notas del curso Física 2 por cada sección que fue abierta durante el primer semestre del 2017"
   ]
  },
  {
   "cell_type": "code",
   "execution_count": 35,
   "metadata": {},
   "outputs": [
    {
     "name": "stdout",
     "output_type": "stream",
     "text": [
      " * sqlite:///parcial1\n",
      "Done.\n"
     ]
    },
    {
     "data": {
      "text/html": [
       "<table>\n",
       "    <tr>\n",
       "        <th>seccion</th>\n",
       "        <th>PROMEDIO</th>\n",
       "    </tr>\n",
       "</table>"
      ],
      "text/plain": [
       "[]"
      ]
     },
     "execution_count": 35,
     "metadata": {},
     "output_type": "execute_result"
    }
   ],
   "source": [
    "%%sql \n",
    "SELECT Asignacion.seccion, AVG(nota) AS PROMEDIO\n",
    "FROM  Cursos INNER JOIN (Notas INNER JOIN Asignacion ON Notas.idCurso=Asignacion.idCurso) as SUB ON Cursos.idCurso=SUB.idCurso\n",
    "WHERE nombre = 'Física 2' and Asignacion.fecha BETWEEN '2017-01-01' AND '2017-06-30'\n",
    "GROUP BY seccion"
   ]
  },
  {
   "cell_type": "markdown",
   "metadata": {},
   "source": [
    "### El listado de estudiantes candidatos para distinciones académicas del 2017 (es decir, aquellos cuyo promedio en ambos semestres del año fue mayor a 85)"
   ]
  },
  {
   "cell_type": "code",
   "execution_count": 75,
   "metadata": {},
   "outputs": [
    {
     "name": "stdout",
     "output_type": "stream",
     "text": [
      " * sqlite:///parcial1\n",
      "Done.\n"
     ]
    },
    {
     "data": {
      "text/html": [
       "<table>\n",
       "    <tr>\n",
       "        <th>nombre</th>\n",
       "        <th>apellido</th>\n",
       "    </tr>\n",
       "</table>"
      ],
      "text/plain": [
       "[]"
      ]
     },
     "execution_count": 75,
     "metadata": {},
     "output_type": "execute_result"
    }
   ],
   "source": [
    "%%sql \n",
    "SELECT nombre, apellido\n",
    "FROM (Estudiantes INNER JOIN (\n",
    "    SELECT Asignacion.idEstudiante\n",
    "    FROM Notas INNER JOIN Asignacion ON Notas.idEstudiante=Asignacion.idEstudiante\n",
    "    WHERE Asignacion.fecha BETWEEN '2017-01-01' AND '2017-06-30'\n",
    "    GROUP BY Asignacion.idEstudiante \n",
    "    HAVING AVG(nota) > 85\n",
    "    ) AS SUB ON Estudiantes.idEstudiante=SUB.idEstudiante)\n"
   ]
  },
  {
   "cell_type": "markdown",
   "metadata": {},
   "source": [
    "### El listado de estudiantes que van en limpio (es decir, que están actualmente activos y que no han perdido ningún curso)."
   ]
  },
  {
   "cell_type": "code",
   "execution_count": 90,
   "metadata": {},
   "outputs": [
    {
     "name": "stdout",
     "output_type": "stream",
     "text": [
      " * sqlite:///parcial1\n",
      "Done.\n"
     ]
    },
    {
     "data": {
      "text/html": [
       "<table>\n",
       "    <tr>\n",
       "        <th>nombre</th>\n",
       "        <th>apellido</th>\n",
       "    </tr>\n",
       "</table>"
      ],
      "text/plain": [
       "[]"
      ]
     },
     "execution_count": 90,
     "metadata": {},
     "output_type": "execute_result"
    }
   ],
   "source": [
    "%%sql\n",
    "SELECT nombre, apellido\n",
    "FROM Estudiantes INNER JOIN (\n",
    "    SELECT Asignacion.idEstudiante\n",
    "    FROM Asignacion INNER JOIN Notas ON Asignacion.idEstudiante=Notas.idEstudiante\n",
    "    WHERE (Asignacion.fecha BETWEEN '2019-01-01' AND '2019-06-30') AND nota > 61\n",
    ") AS SUB ON Estudiantes.idEstudiante=SUB.idEstudiante"
   ]
  }
 ],
 "metadata": {
  "kernelspec": {
   "display_name": "Python 2",
   "language": "python",
   "name": "python2"
  },
  "language_info": {
   "codemirror_mode": {
    "name": "ipython",
    "version": 2
   },
   "file_extension": ".py",
   "mimetype": "text/x-python",
   "name": "python",
   "nbconvert_exporter": "python",
   "pygments_lexer": "ipython2",
   "version": "2.7.15rc1"
  }
 },
 "nbformat": 4,
 "nbformat_minor": 2
}
